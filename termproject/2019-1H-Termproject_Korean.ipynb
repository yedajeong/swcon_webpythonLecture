{
 "cells": [
  {
   "cell_type": "markdown",
   "metadata": {},
   "source": [
    "# Term Project 설명"
   ]
  },
  {
   "cell_type": "markdown",
   "metadata": {},
   "source": [
    "수업의 전반부에서, 우리는 Python 언어 자체에 대한 이해를 수업을 통해서 배웁니다.<br>\n",
    "수업의 후반부에서, 여러분은 Python을 사용하는 주요 사례인, \"인터넷의 정보 획득과 분석\"을 직접 경험하게 됩니다.<br>\n",
    "\n",
    "학기말까지 여러분은 직접 본인이 관심있어하는 분야의 정보를 직접 인터넷에서 Python 언어를 통해서 획득하고 분석하는 작업을 해야 합니다.<br>\n",
    "아래의 공개 정보 외에 희망하는 정보를 인터넷에서 직접 찾아서, 정보를 분석하는 작업을 하도록 합니다.<br>\n",
    "제안서, 중간보고서, 최종보고서를 강의계획서의 일정에 맞추어 제출하게 되며, <br>\n",
    "제출물은 ipynb 화일과 수행에 필요한 기타 화일을 모두 묶어서 하나의 압축 화일로 KLAS를 통해서 제출합니다.<br>\n",
    "그리고 Term Project의 목차는 다음과 같이 고정하며, Term Project의 제출 양식은 Jupyter notebook으로 작성해서 제출합니다.<br>\n",
    "\n",
    "(1) 주제 선정 이유: 왜 이 주제(분야)를 선정하게 된 이유를 나열함<br>\n",
    "(2) 가설 정의: 본인이 Term 프로젝트를 통해서 증명하고자 하는 명제 혹은 밝히고자 하는 논리가 무엇인지 설명함<br>\n",
    "(3) 인터넷을 통한 데이터 획득: 위의 명제/논리을 펼치기 위하여, 어디서 Python을 통해 어떻게 데이터를 획득했는지 구체적으로 나열함<br>\n",
    "(4) 분석을 위한 데이터의 가공: 데이터는 가공되지 않으면 의미가 없으므로, 어떻게 어떤 정보를 Pyhton으로 추출했는지 설명함<br>\n",
    "(5) 분석 결과 도출: 수학적 방법 혹은 논리적 방법을 Python으로 구현함으로서, 프로그램을 통해서 결과를 도출함<br>\n",
    "(6) 결론: 본인의 명제/논리가 증명/확인 되었는지와 이를 구체적으로 서술함<br>\n",
    "(7) 참고문헌: 위의 작업을 위하여 획득한 자료, 인터넷 정보, 논문, 도서 등을 나열함 <br>\n",
    "(8) 별첨1: (3)의 획득한 데이터 원본<br>\n",
    "(9) 별첨2: (4)의 가공된 데이터 원본<br>\n",
    "(10) 별첨3: (3)을 (4)로 변환하는 등의 작업을 위하여 본인이 직접 개발한 Python 소스코드 원본<br>\n",
    "\n",
    "제출된 Term Project는 웹사이트를 통해서 전체 공지하여 필요한 사람이 참조하도록 할 수 있습니다.<br>\n",
    "아울러 **인터넷/블로그/도서를 통한 유사 작업을 그대로 제출하는 행위를 일체 금지하며, 적발시 본 과목의 전체 성적을 0점 처리**하게 됩니다.<br>\n",
    "조교의 인터넷 검색을 통한 원본 확인과,<br>\n",
    "특히 공개된 Term Proejct를 통해서 타 자료를 그대로 제출한 것이 제보되면 제보자에 인센티브를 제공하는 것을 고려할 예정이니, 본인의 실력 향상에만 집중하기 바랍니다."
   ]
  },
  {
   "cell_type": "markdown",
   "metadata": {},
   "source": [
    "# 참조 자료"
   ]
  },
  {
   "cell_type": "markdown",
   "metadata": {},
   "source": [
    "## Python을 통한 공공 정보 Open API 접근"
   ]
  },
  {
   "cell_type": "markdown",
   "metadata": {},
   "source": [
    "- 정부 3.0 공공 데이터 : http://www.data.go.kr/\n",
    "\n",
    "\n",
    "- 서울시 열린 데이터 광장 : http://data.seoul.go.kr/"
   ]
  },
  {
   "cell_type": "markdown",
   "metadata": {},
   "source": [
    "## Python을 통한 SNS Open API 접근"
   ]
  },
  {
   "cell_type": "markdown",
   "metadata": {},
   "source": [
    "- 네이버 : https://developers.naver.com/docs/common/openapiguide/\n",
    "\n",
    "\n",
    "- Facebook : https://facebook-sdk.readthedocs.io/en/latest/\n",
    "\n",
    "\n",
    "- Twitter : https://developer.twitter.com/en/docs/developer-utilities/twitter-libraries.html\n",
    "\n",
    "\n",
    "- Instagram : https://www.instagram.com/developer/libraries/"
   ]
  },
  {
   "cell_type": "markdown",
   "metadata": {},
   "source": [
    "## Python을 이용한 데이터 분석 도구"
   ]
  },
  {
   "cell_type": "markdown",
   "metadata": {},
   "source": [
    "- Pandas : https://pandas.pydata.org/ <br>\n",
    "\n",
    "\n",
    "- Tensoflow : https://www.tensorflow.org/?hl=ko <br>"
   ]
  },
  {
   "cell_type": "markdown",
   "metadata": {},
   "source": [
    "## 참조 도서"
   ]
  },
  {
   "cell_type": "markdown",
   "metadata": {},
   "source": [
    "- \"파이썬으로 데이터 주무르기 독특한 예제를 통해 배우는 데이터 분석 입문\", 민형기 지음, 비제이퍼블릭, 2017년 12월 29일 출간<br>\n",
    "http://www.kyobobook.co.kr/product/detailViewKor.laf?ejkGb=KOR&mallGb=KOR&barcode=9791186697474&orderClick=LEA&Kc=<br>\n",
    "\n",
    "\n",
    "- \"파이썬을 이용한 빅데이터 수집, 분석과 시각화 페이스북 트위터 네이버 공공 일반 웹 데이터 기반\", 이원하 지음 | 비팬북스 | 2017년 06월 20일 출간<br>\n",
    "http://www.kyobobook.co.kr/product/detailViewKor.laf?ejkGb=KOR&mallGb=KOR&barcode=9788994797694&orderClick=LAH&Kc=<br>"
   ]
  },
  {
   "cell_type": "markdown",
   "metadata": {},
   "source": [
    "## 참고 사이트"
   ]
  },
  {
   "cell_type": "markdown",
   "metadata": {},
   "source": [
    "- 정부3.0 공공 데이터 포털 API 사용하기<br>\n",
    "https://ericnjennifer.github.io/python_crawling/2018/01/05/PythonCrawling_Chapt5.html<br>\n",
    "\n",
    "\n",
    "- 오픈 API를 통한 공공데이터 수집<br>\n",
    "https://medium.com/@whj2013123218/%EC%98%A4%ED%94%88-api%EB%A5%BC-%ED%86%B5%ED%95%9C-%EA%B3%B5%EA%B3%B5%EB%8D%B0%EC%9D%B4%ED%84%B0-%EC%88%98%EC%A7%91-e1dd0ad203b6<br>\n",
    "\n",
    "\n",
    "- 파이썬을 이용한 빅데이터 수집. 분석과 시각화<br>\n",
    "https://snscrawler.files.wordpress.com/2017/07/python-data-crawling.pdf\n",
    "https://snscrawler.files.wordpress.com/2017/07/part1_eb8db0ec9db4ed84b0-ec82acec9aa9ec9d84-ec9c84ed959c-eab384eca095-ec84a4eca095.pdf"
   ]
  }
 ],
 "metadata": {
  "kernelspec": {
   "display_name": "Python 3",
   "language": "python",
   "name": "python3"
  },
  "language_info": {
   "codemirror_mode": {
    "name": "ipython",
    "version": 3
   },
   "file_extension": ".py",
   "mimetype": "text/x-python",
   "name": "python",
   "nbconvert_exporter": "python",
   "pygments_lexer": "ipython3",
   "version": "3.7.3"
  }
 },
 "nbformat": 4,
 "nbformat_minor": 2
}
