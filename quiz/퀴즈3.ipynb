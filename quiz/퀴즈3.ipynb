{
 "cells": [
  {
   "cell_type": "code",
   "execution_count": 7,
   "metadata": {},
   "outputs": [],
   "source": [
    "fileMatrix = []\n",
    "\n",
    "with open('QA.txt','r',encoding = 'utf-8') as file:\n",
    "    contents = file.read()\n",
    "    fileRemove = [',','.','?','!','title:','Q','A']\n",
    "    for lineContent in contents:\n",
    "        for i in fileRemove:\n",
    "            fileMatrix.append(lineContent.strip(i))        \n",
    "\n",
    "fileMatrix.sort()    \n",
    "setFileMat = set(fileMatrix)\n",
    "\n",
    "for keys in setFileMat:\n",
    "    keyList = []\n",
    "    keyList.append(keys)    "
   ]
  }
 ],
 "metadata": {
  "kernelspec": {
   "display_name": "Python 3",
   "language": "python",
   "name": "python3"
  },
  "language_info": {
   "codemirror_mode": {
    "name": "ipython",
    "version": 3
   },
   "file_extension": ".py",
   "mimetype": "text/x-python",
   "name": "python",
   "nbconvert_exporter": "python",
   "pygments_lexer": "ipython3",
   "version": "3.7.1"
  }
 },
 "nbformat": 4,
 "nbformat_minor": 2
}
