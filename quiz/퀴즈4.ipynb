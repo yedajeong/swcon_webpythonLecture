{
 "cells": [
  {
   "cell_type": "markdown",
   "metadata": {},
   "source": [
    "## Quiz4\n",
    "\n",
    "#### 가장 먼저 파일명을 본인 학번으로 변경해주세요.\n",
    "#### 제가 시작하기 전에 미리 풀지 마세요.\n",
    "#### 퀴즈 시간은 정확히 15분 입니다.\n",
    "#### 만약 15분을 넘겨서 제출하게 되면, 1분당 10점씩 감점합니다.\n",
    "#### 문제를 더블클릭하여 마크다운 편집 상태가 됐을때에는, 해당 셀을 실행하여 문서 형태로 다시 보이게 하면 됩니다.\n",
    "#### 메일로는 파일을 받지 않겠습니다.\n",
    "#### 점수에 대한 문의는 퀴즈 성적 공지 이후 48시간까지 입니다."
   ]
  },
  {
   "cell_type": "markdown",
   "metadata": {},
   "source": [
    "#### Figure class (total 20pt)\n",
    "* Figure 클래스는 서브 클래스로 Rectangle, Circle을 가지고, 멤버 변수로 변의 개수(numSide)를 가지며, 멤버 메서드로 \\_\\_init\\_\\_ 과 \\_\\_eq\\_\\_를 가진다. **(10pt)**\n",
    "\n",
    "* \\_\\_eq\\_\\_ 메서드를 통해 Figure간 등위 연산(==, 같으면 True, 다르면 False)이 가능하도록 한다. (변의 개수 numSide 비교) **(10pt)**"
   ]
  },
  {
   "cell_type": "code",
   "execution_count": 1,
   "metadata": {
    "collapsed": true
   },
   "outputs": [],
   "source": [
    "# Figure Class\n",
    "\n",
    "class Figure:\n",
    "    def __init__(self):\n",
    "        self.numSide = 0\n",
    "        \n",
    "    def __eq__(self, other):\n",
    "        return self.numSide == other.numSide  "
   ]
  },
  {
   "cell_type": "markdown",
   "metadata": {},
   "source": [
    "#### Rectangle class (total 20pt)\n",
    "* Rectangle 클래스는 멤버 변수로 왼쪽 위 꼭지점 x좌표(x), y좌표(y), 너비(width), 높이(height)를 가지며, 멤버 메서드로 \\_\\_init\\_\\_, area를 가진다. **(5pt)**\n",
    "\n",
    "* 변의 개수는 4 (Hint. **Super()**) **(5pt)**\n",
    "\n",
    "* area 메서드의 입력 파라미터는 없으며, 사각형의 넓이를 반환한다. **(10pt)**"
   ]
  },
  {
   "cell_type": "code",
   "execution_count": 2,
   "metadata": {
    "collapsed": true
   },
   "outputs": [],
   "source": [
    "# Rectangle Class\n",
    "\n",
    "class Rectangle:\n",
    "    def __init__(self, rectX, rectY, rectWidth, rectHeight):\n",
    "        self.x = rectX\n",
    "        self.y = rectY\n",
    "        self.width = rectWidth\n",
    "        self.height = rectHeight\n",
    "        super().__init__(numSide)\n",
    "        numSide = 4\n",
    "        \n",
    "    def area(self):\n",
    "        return self.width * self.height        "
   ]
  },
  {
   "cell_type": "markdown",
   "metadata": {},
   "source": [
    "#### Circle class (total 40pt)\n",
    "* Circle 클래스는 멤버 변수로 중점의 x좌표(x), y좌표(y), 반지름(radius)를 가지며, 멤버 메서드로 \\_\\_init\\_\\_, area, distance를 가진다. **(5pt)**\n",
    "\n",
    "* 변의 개수는 0 (Hint. **Super()**) **(5pt)**\n",
    "\n",
    "* area 메서드의 입력 파라미터는 없으며, 원의 넓이를 반환한다.(PI = 3.14) **(10pt)**\n",
    "\n",
    "* distance 메서드의 입력 파라미터는 Rectangle Type 변수이며, Rectangle의 왼쪽 위 꼭지점 좌표(x,y)와 Circle의 중점(x,y) 사이의 거리를 반환하는 메서드를 구현한다. 단, math module 사용시 감점 (Hint. 제곱근 구하는 방법 **Babylonian Method**(빔프로젝터 참고)) **(20pt)**\n",
    "\n",
    "* 점과 점 사이의 거리를 구하는 공식은 다음과 같다.(($x_0,y_0$) <-> ($x_1,y_1$))\n",
    "\n",
    "# $d = \\sqrt {(x_0-x_1)^2 + (y_0-y_1)^2}$"
   ]
  },
  {
   "cell_type": "code",
   "execution_count": 3,
   "metadata": {
    "collapsed": true
   },
   "outputs": [],
   "source": [
    "# Circle Class\n",
    "\n",
    "def mySqrt(userInt):\n",
    "    userSqrt = 0\n",
    "    for i in range(0,11):\n",
    "    userSqrt + i = (1/2)*(userSqrt+userInt/userSqrt)\n",
    "    return userSqrt\n",
    "    \n",
    "class Circle:\n",
    "    def __init__(self, circX, circY, circRadius):\n",
    "        self.x = circX\n",
    "        self.y = circY\n",
    "        self.radius = circRadius\n",
    "        super().__init__(numSide)\n",
    "        numSide = 0\n",
    "        \n",
    "    def area(self):\n",
    "        return pow(self.radius, 2) * 3.14\n",
    "    \n",
    "    def distance(self, rectangleLocation):\n",
    "        return mySqrt((Rectangle.x()-self.x)**2 + (Rectangle.y()-self.y)**2))\n",
    "\n",
    "# Babylonian Method\n"
   ]
  },
  {
   "cell_type": "code",
   "execution_count": 1,
   "metadata": {},
   "outputs": [
    {
     "ename": "NameError",
     "evalue": "name 'Rectangle' is not defined",
     "output_type": "error",
     "traceback": [
      "\u001b[1;31m---------------------------------------------------------------------------\u001b[0m",
      "\u001b[1;31mNameError\u001b[0m                                 Traceback (most recent call last)",
      "\u001b[1;32m<ipython-input-1-ea238b2d1fd0>\u001b[0m in \u001b[0;36m<module>\u001b[1;34m()\u001b[0m\n\u001b[0;32m      1\u001b[0m \u001b[1;31m# Test(이거 보고 채점하는거 아닙니다. 자유롭게 사용하시면 됩니다.)\u001b[0m\u001b[1;33m\u001b[0m\u001b[1;33m\u001b[0m\u001b[0m\n\u001b[0;32m      2\u001b[0m \u001b[1;33m\u001b[0m\u001b[0m\n\u001b[1;32m----> 3\u001b[1;33m \u001b[0mrect1\u001b[0m \u001b[1;33m=\u001b[0m \u001b[0mRectangle\u001b[0m\u001b[1;33m(\u001b[0m\u001b[0mx\u001b[0m\u001b[1;33m=\u001b[0m\u001b[1;36m2\u001b[0m\u001b[1;33m,\u001b[0m\u001b[0my\u001b[0m\u001b[1;33m=\u001b[0m\u001b[1;36m2\u001b[0m\u001b[1;33m,\u001b[0m\u001b[0mwidth\u001b[0m\u001b[1;33m=\u001b[0m\u001b[1;36m1\u001b[0m\u001b[1;33m,\u001b[0m\u001b[0mheight\u001b[0m\u001b[1;33m=\u001b[0m\u001b[1;36m1\u001b[0m\u001b[1;33m)\u001b[0m\u001b[1;33m\u001b[0m\u001b[0m\n\u001b[0m\u001b[0;32m      4\u001b[0m \u001b[0mrect2\u001b[0m \u001b[1;33m=\u001b[0m \u001b[0mRectangle\u001b[0m\u001b[1;33m(\u001b[0m\u001b[0mx\u001b[0m\u001b[1;33m=\u001b[0m\u001b[1;36m0\u001b[0m\u001b[1;33m,\u001b[0m\u001b[0my\u001b[0m\u001b[1;33m=\u001b[0m\u001b[1;36m2\u001b[0m\u001b[1;33m,\u001b[0m\u001b[0mwidth\u001b[0m\u001b[1;33m=\u001b[0m\u001b[1;36m1\u001b[0m\u001b[1;33m,\u001b[0m\u001b[0mheight\u001b[0m\u001b[1;33m=\u001b[0m\u001b[1;36m1\u001b[0m\u001b[1;33m)\u001b[0m\u001b[1;33m\u001b[0m\u001b[0m\n\u001b[0;32m      5\u001b[0m \u001b[0mcir1\u001b[0m \u001b[1;33m=\u001b[0m \u001b[0mCircle\u001b[0m\u001b[1;33m(\u001b[0m\u001b[0mx\u001b[0m\u001b[1;33m=\u001b[0m\u001b[1;36m0\u001b[0m\u001b[1;33m,\u001b[0m\u001b[0my\u001b[0m\u001b[1;33m=\u001b[0m\u001b[1;36m0\u001b[0m\u001b[1;33m,\u001b[0m\u001b[0mradius\u001b[0m\u001b[1;33m=\u001b[0m\u001b[1;36m0.5\u001b[0m\u001b[1;33m)\u001b[0m\u001b[1;33m\u001b[0m\u001b[0m\n",
      "\u001b[1;31mNameError\u001b[0m: name 'Rectangle' is not defined"
     ]
    }
   ],
   "source": [
    "# Test(이거 보고 채점하는거 아닙니다. 자유롭게 사용하시면 됩니다.)\n",
    "\n",
    "rect1 = Rectangle(x=2,y=2,width=1,height=1)\n",
    "rect2 = Rectangle(x=0,y=2,width=1,height=1)\n",
    "cir1 = Circle(x=0,y=0,radius=0.5)\n",
    "\n",
    "assert((rect1==rect2) == True)\n",
    "assert((rect1==cir1) == False)\n",
    "assert(rect1.area()==1)\n",
    "assert(cir1.area()==0.785)\n",
    "assert(1.4141 <= mySqrt(2) and mySqrt(2) <= 1.4143)\n",
    "assert(2.827 <= cir1.distance(rect1) and cir1.distance(rect1) <= 2.829)"
   ]
  },
  {
   "cell_type": "code",
   "execution_count": null,
   "metadata": {
    "collapsed": true
   },
   "outputs": [],
   "source": []
  },
  {
   "cell_type": "code",
   "execution_count": null,
   "metadata": {
    "collapsed": true
   },
   "outputs": [],
   "source": []
  }
 ],
 "metadata": {
  "anaconda-cloud": {},
  "kernelspec": {
   "display_name": "Python 3",
   "language": "python",
   "name": "python3"
  },
  "language_info": {
   "codemirror_mode": {
    "name": "ipython",
    "version": 3
   },
   "file_extension": ".py",
   "mimetype": "text/x-python",
   "name": "python",
   "nbconvert_exporter": "python",
   "pygments_lexer": "ipython3",
   "version": "3.7.3"
  }
 },
 "nbformat": 4,
 "nbformat_minor": 2
}
