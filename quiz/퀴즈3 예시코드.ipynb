{
 "cells": [
  {
   "cell_type": "code",
   "execution_count": 6,
   "metadata": {},
   "outputs": [
    {
     "ename": "IndexError",
     "evalue": "list index out of range",
     "output_type": "error",
     "traceback": [
      "\u001b[1;31m---------------------------------------------------------------------------\u001b[0m",
      "\u001b[1;31mIndexError\u001b[0m                                Traceback (most recent call last)",
      "\u001b[1;32m<ipython-input-6-2d6484b6f794>\u001b[0m in \u001b[0;36m<module>\u001b[1;34m\u001b[0m\n\u001b[0;32m     12\u001b[0m \u001b[0mvocab_list\u001b[0m \u001b[1;33m=\u001b[0m \u001b[1;33m[\u001b[0m\u001b[1;33m]\u001b[0m\u001b[1;33m\u001b[0m\u001b[1;33m\u001b[0m\u001b[0m\n\u001b[0;32m     13\u001b[0m \u001b[1;32mfor\u001b[0m \u001b[0mdata\u001b[0m \u001b[1;32min\u001b[0m \u001b[0mdata_list\u001b[0m\u001b[1;33m:\u001b[0m\u001b[1;33m\u001b[0m\u001b[1;33m\u001b[0m\u001b[0m\n\u001b[1;32m---> 14\u001b[1;33m     \u001b[0mwords\u001b[0m \u001b[1;33m=\u001b[0m \u001b[0mdata\u001b[0m\u001b[1;33m.\u001b[0m\u001b[0msplit\u001b[0m\u001b[1;33m(\u001b[0m\u001b[1;34m' : '\u001b[0m\u001b[1;33m)\u001b[0m\u001b[1;33m[\u001b[0m\u001b[1;36m1\u001b[0m\u001b[1;33m]\u001b[0m\u001b[1;33m\u001b[0m\u001b[1;33m\u001b[0m\u001b[0m\n\u001b[0m\u001b[0;32m     15\u001b[0m     \u001b[0mwords\u001b[0m \u001b[1;33m=\u001b[0m \u001b[0mwords\u001b[0m\u001b[1;33m.\u001b[0m\u001b[0msplit\u001b[0m\u001b[1;33m(\u001b[0m\u001b[1;34m' '\u001b[0m\u001b[1;33m)\u001b[0m\u001b[1;33m\u001b[0m\u001b[1;33m\u001b[0m\u001b[0m\n\u001b[0;32m     16\u001b[0m     \u001b[1;32mfor\u001b[0m \u001b[0mword\u001b[0m \u001b[1;32min\u001b[0m \u001b[0mwords\u001b[0m\u001b[1;33m:\u001b[0m\u001b[1;33m\u001b[0m\u001b[1;33m\u001b[0m\u001b[0m\n",
      "\u001b[1;31mIndexError\u001b[0m: list index out of range"
     ]
    }
   ],
   "source": [
    "data_list = []\n",
    "with open('QA.txt', 'r', encoding = 'utf8') as f:\n",
    "    while True:\n",
    "        line = f.readline()\n",
    "        if not line: \n",
    "            break\n",
    "        line = line.replace('?', '')\n",
    "        line = line.replace('.', '')\n",
    "        line = line.replace(',', '')\n",
    "        line = line.replace('.', '')\n",
    "        data_list.append(line.replace('\\n', ''))\n",
    "vocab_list = []\n",
    "for data in data_list:\n",
    "    words = data.split(' : ')[1]\n",
    "    words = words.split(' ')\n",
    "    for word in words:\n",
    "        vocab_list.append(word)\n",
    "        \n",
    "vocab_set = set(vocab_list)\n",
    "vocab_list = list(vocab_set)\n",
    "vocab_list.sort()\n",
    "\n",
    "vocab_dict = dict()\n",
    "for i in range(len(vocab_list)):\n",
    "    vocab_dict[vocab_list[i]] = i  #key값에 해당하는 value 지정하여 딕셔너리생성\n",
    "with open('output.vocab', 'w', encoding='utf8') as f:\n",
    "    for (key, value) in vocab_dict.items():\n",
    "        f.write(str(key) + '\\t' + str(value) + '\\n')\n",
    "        \n",
    "text = [] #word2idx의 첫번째 인자\n",
    "with open('QA.txt', 'r', encoding = 'utf8') as f:\n",
    "    while True:\n",
    "        line = f.readline()\n",
    "        if not line: break\n",
    "        text.append(line.replace('\\n', ''))\n",
    "        \n",
    "vocab = dict() #word2idx의 두번째 인자\n",
    "with open('output.vocab', 'r', encoding = 'utf8') as f:\n",
    "    while True:\n",
    "        line = f.readline()\n",
    "        if not line: break\n",
    "        line = line.replace('\\n', '')\n",
    "        key = line.split('\\t')[0]\n",
    "        value = line.split('\\t')[1]\n",
    "        vocab[key] = value\n",
    "            \n",
    "def word2inx(texts, dic):\n",
    "    embed_list = []\n",
    "    for text in texts:\n",
    "        words = text.split(' : ')[1]\n",
    "        for word in words.split(' '):\n",
    "            word = word.replace(',', '')\n",
    "            word = word.replace('\"\"', '')\n",
    "            word = word.replace('?', '')\n",
    "            word = word.replace('.', '')\n",
    "            embed_list.append(dic[word])\n",
    "        return embed_list\n",
    "    \n",
    "result = word2idx(text, vocab)\n",
    "\n",
    "with open('embed.txt', 'w', encoding='utf8') as f:\n",
    "    f.write(str(result))"
   ]
  }
 ],
 "metadata": {
  "kernelspec": {
   "display_name": "Python 3",
   "language": "python",
   "name": "python3"
  },
  "language_info": {
   "codemirror_mode": {
    "name": "ipython",
    "version": 3
   },
   "file_extension": ".py",
   "mimetype": "text/x-python",
   "name": "python",
   "nbconvert_exporter": "python",
   "pygments_lexer": "ipython3",
   "version": "3.7.3"
  }
 },
 "nbformat": 4,
 "nbformat_minor": 2
}
