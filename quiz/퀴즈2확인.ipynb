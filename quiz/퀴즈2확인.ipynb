{
 "cells": [
  {
   "cell_type": "code",
   "execution_count": 10,
   "metadata": {},
   "outputs": [
    {
     "ename": "SyntaxError",
     "evalue": "invalid syntax (<ipython-input-10-3ff691509de2>, line 6)",
     "output_type": "error",
     "traceback": [
      "\u001b[1;36m  File \u001b[1;32m\"<ipython-input-10-3ff691509de2>\"\u001b[1;36m, line \u001b[1;32m6\u001b[0m\n\u001b[1;33m    if (yours==enemy) :\u001b[0m\n\u001b[1;37m                      ^\u001b[0m\n\u001b[1;31mSyntaxError\u001b[0m\u001b[1;31m:\u001b[0m invalid syntax\n"
     ]
    }
   ],
   "source": [
    "yours=input(prompt=\"Type yours: \")\n",
    "from random import randrange\n",
    "def rsp(yours):\n",
    "    enemy=[\"rock\",\"sissor\",\"paper\"]\n",
    "    print(\"Enemy's: \", (enemy.randrange(3))\n",
    "          if (yours==enemy):\n",
    "            print(\"Draw!\")\n",
    "          elif (yours==\"rock\") and (enemy==\"sissor\"):\n",
    "            print(\"Winner!\")\n",
    "          elif (yours==\"rock\") and (enemy==\"paper\"):\n",
    "            print(\"You're loser!\") \n",
    "          elif (yours==\"sissor\") and (enemy==\"rock\"):\n",
    "            print(\"You're loser!\") \n",
    "          elif (yours==\"sissor\") and (enemy==\"paper\"):\n",
    "            print(\"Winner!\")\n",
    "          elif (yours==\"paper\") and (enemy==\"rock\"):\n",
    "            print(\"Winner!\")\n",
    "          elif (yours==\"paper\") and (enemy==\"sissor\"):\n",
    "            print(\"You're loser!\")\n",
    "        \n",
    "rsp(yours)          "
   ]
  }
 ],
 "metadata": {
  "kernelspec": {
   "display_name": "Python 3",
   "language": "python",
   "name": "python3"
  },
  "language_info": {
   "codemirror_mode": {
    "name": "ipython",
    "version": 3
   },
   "file_extension": ".py",
   "mimetype": "text/x-python",
   "name": "python",
   "nbconvert_exporter": "python",
   "pygments_lexer": "ipython3",
   "version": "3.7.1"
  }
 },
 "nbformat": 4,
 "nbformat_minor": 2
}
