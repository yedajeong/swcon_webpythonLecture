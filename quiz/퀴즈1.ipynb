{
 "cells": [
  {
   "cell_type": "code",
   "execution_count": 9,
   "metadata": {},
   "outputs": [
    {
     "data": {
      "text/plain": [
       "0"
      ]
     },
     "execution_count": 9,
     "metadata": {},
     "output_type": "execute_result"
    }
   ],
   "source": [
    "def ymd2days(yyyy,mm,dd):\n",
    "    return(yyyy*360+mm*30+dd)\n",
    "\n",
    "def calHol(enter,today):\n",
    "    enter=ymd2days(2000,10,10)\n",
    "    today=ymd2days(2000,10,14)\n",
    "    return((today-enter)//14)\n",
    "\n",
    "enter=ymd2days(2000,10,10)\n",
    "today=ymd2days(2000,10,24)\n",
    "\n",
    "calHol(enter,today)\n"
   ]
  }
 ],
 "metadata": {
  "kernelspec": {
   "display_name": "Python 3",
   "language": "python",
   "name": "python3"
  },
  "language_info": {
   "codemirror_mode": {
    "name": "ipython",
    "version": 3
   },
   "file_extension": ".py",
   "mimetype": "text/x-python",
   "name": "python",
   "nbconvert_exporter": "python",
   "pygments_lexer": "ipython3",
   "version": "3.7.1"
  }
 },
 "nbformat": 4,
 "nbformat_minor": 2
}
