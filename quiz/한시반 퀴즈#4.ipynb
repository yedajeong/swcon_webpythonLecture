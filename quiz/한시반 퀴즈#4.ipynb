{
 "cells": [
  {
   "cell_type": "code",
   "execution_count": 7,
   "metadata": {},
   "outputs": [
    {
     "ename": "TypeError",
     "evalue": "calc_avg_grade() missing 1 required positional argument: 'givenGradeList'",
     "output_type": "error",
     "traceback": [
      "\u001b[1;31m---------------------------------------------------------------------------\u001b[0m",
      "\u001b[1;31mTypeError\u001b[0m                                 Traceback (most recent call last)",
      "\u001b[1;32m<ipython-input-7-f77e627a8912>\u001b[0m in \u001b[0;36m<module>\u001b[1;34m\u001b[0m\n\u001b[0;32m     33\u001b[0m \u001b[0mstudent3\u001b[0m \u001b[1;33m=\u001b[0m \u001b[0mStudent\u001b[0m\u001b[1;33m(\u001b[0m\u001b[1;36m2019311060\u001b[0m\u001b[1;33m,\u001b[0m \u001b[1;33m[\u001b[0m\u001b[1;36m40\u001b[0m\u001b[1;33m,\u001b[0m\u001b[1;36m50\u001b[0m\u001b[1;33m,\u001b[0m\u001b[1;36m60\u001b[0m\u001b[1;33m]\u001b[0m\u001b[1;33m)\u001b[0m\u001b[1;33m\u001b[0m\u001b[1;33m\u001b[0m\u001b[0m\n\u001b[0;32m     34\u001b[0m \u001b[1;33m\u001b[0m\u001b[0m\n\u001b[1;32m---> 35\u001b[1;33m \u001b[0mprint\u001b[0m\u001b[1;33m(\u001b[0m\u001b[0mAvgCalculator\u001b[0m\u001b[1;33m.\u001b[0m\u001b[0mcalc_avg_grade\u001b[0m\u001b[1;33m(\u001b[0m\u001b[0mStudent\u001b[0m\u001b[1;33m.\u001b[0m\u001b[0mgetId\u001b[0m\u001b[1;33m(\u001b[0m\u001b[0mstudent1\u001b[0m\u001b[1;33m)\u001b[0m\u001b[1;33m,\u001b[0m \u001b[0mStudent\u001b[0m\u001b[1;33m.\u001b[0m\u001b[0mgetGradeList\u001b[0m\u001b[1;33m(\u001b[0m\u001b[0mstudent1\u001b[0m\u001b[1;33m)\u001b[0m\u001b[1;33m)\u001b[0m\u001b[1;33m)\u001b[0m\u001b[1;33m\u001b[0m\u001b[1;33m\u001b[0m\u001b[0m\n\u001b[0m\u001b[0;32m     36\u001b[0m \u001b[0mprint\u001b[0m\u001b[1;33m(\u001b[0m\u001b[0mAvgCalculator\u001b[0m\u001b[1;33m.\u001b[0m\u001b[0mcalc_avg_grade\u001b[0m\u001b[1;33m(\u001b[0m\u001b[0mStudent\u001b[0m\u001b[1;33m.\u001b[0m\u001b[0mgetId\u001b[0m\u001b[1;33m(\u001b[0m\u001b[0mstudent2\u001b[0m\u001b[1;33m)\u001b[0m\u001b[1;33m,\u001b[0m \u001b[0mStudent\u001b[0m\u001b[1;33m.\u001b[0m\u001b[0mgetGradeList\u001b[0m\u001b[1;33m(\u001b[0m\u001b[0mstudent2\u001b[0m\u001b[1;33m)\u001b[0m\u001b[1;33m)\u001b[0m\u001b[1;33m)\u001b[0m\u001b[1;33m\u001b[0m\u001b[1;33m\u001b[0m\u001b[0m\n\u001b[0;32m     37\u001b[0m \u001b[0mprint\u001b[0m\u001b[1;33m(\u001b[0m\u001b[0mAvgCalculator\u001b[0m\u001b[1;33m.\u001b[0m\u001b[0mcalc_avg_grade\u001b[0m\u001b[1;33m(\u001b[0m\u001b[0mStudent\u001b[0m\u001b[1;33m.\u001b[0m\u001b[0mgetId\u001b[0m\u001b[1;33m(\u001b[0m\u001b[0mstudent3\u001b[0m\u001b[1;33m)\u001b[0m\u001b[1;33m,\u001b[0m \u001b[0mStudent\u001b[0m\u001b[1;33m.\u001b[0m\u001b[0mgetGradeList\u001b[0m\u001b[1;33m(\u001b[0m\u001b[0mstudent3\u001b[0m\u001b[1;33m)\u001b[0m\u001b[1;33m)\u001b[0m\u001b[1;33m)\u001b[0m\u001b[1;33m\u001b[0m\u001b[1;33m\u001b[0m\u001b[0m\n",
      "\u001b[1;31mTypeError\u001b[0m: calc_avg_grade() missing 1 required positional argument: 'givenGradeList'"
     ]
    }
   ],
   "source": [
    "class Student:\n",
    "    \n",
    "    def __init__(self, givenId, givenGradeList):\n",
    "        self.__id = 0\n",
    "        self.__grade_list = []\n",
    "        \n",
    "    def setId(self, givenId):\n",
    "        self.__id = givenId\n",
    "        \n",
    "    def getId(self):\n",
    "        return self.__id\n",
    "    \n",
    "    def setGradeList(self, givenGradeList):\n",
    "        self.__grade_list = givenGradeList\n",
    "        \n",
    "    def getGradeList(self):\n",
    "        return self.__grade_list\n",
    "    \n",
    "class AvgCalculator:\n",
    "    def __init__(self, givenAvg):\n",
    "        self.__avg = {}\n",
    "        \n",
    "    def calc_avg_grade(self, givenId, givenGradeList):\n",
    "        avgScore = (int(self.__grade_list[0])+int(self.__grade_list[1])+int(self.__grade_list[0]))/3\n",
    "        self.__avg[givenId] = avgScore\n",
    "        \n",
    "    def __str__(self):\n",
    "        msg = \"Student ID :{}, Average Grade : {}\\n\".format(self.__id, self.__avg) \n",
    "        return msg\n",
    "        \n",
    "student1 = Student(2015104221, [20,30,40])\n",
    "student2 = Student(2016105323, [30,40,50])\n",
    "student3 = Student(2019311060, [40,50,60])\n",
    "\n",
    "print(AvgCalculator.calc_avg_grade(Student.getId(student1), Student.getGradeList(student1)))\n",
    "print(AvgCalculator.calc_avg_grade(Student.getId(student2), Student.getGradeList(student2)))\n",
    "print(AvgCalculator.calc_avg_grade(Student.getId(student3), Student.getGradeList(student3)))"
   ]
  },
  {
   "cell_type": "code",
   "execution_count": 2,
   "metadata": {},
   "outputs": [
    {
     "name": "stdout",
     "output_type": "stream",
     "text": [
      "Student ID : 2015104221, Average Grade: 50.0\n",
      "Student ID : 2016105323, Average Grade: 30.0\n",
      "Student ID : 2017105323, Average Grade: 30.0\n",
      "Student ID : 2018105323, Average Grade: 30.0\n",
      "Student ID : 2019311060, Average Grade: 80.0\n",
      "\n"
     ]
    }
   ],
   "source": [
    "# Your code here\n",
    "\n",
    "class Student:\n",
    "    def __init__(self, id='', grade_list=[]):\n",
    "        self.__id = id\n",
    "        self.__grade_list = grade_list\n",
    "\n",
    "    def getId(self):\n",
    "        return self.__id\n",
    "    \n",
    "    def getGradeList(self):\n",
    "        return self.__grade_list\n",
    "    \n",
    "class AvgCalculator:\n",
    "    def __init__(self):\n",
    "        self.__dict = {}\n",
    "\n",
    "    def calc_avg_grade(self, id, grade_list):\n",
    "        avg = sum(grade_list) / len(grade_list)\n",
    "        self.__dict[id] = avg\n",
    "\n",
    "    def __str__(self):\n",
    "        grade_str = ''\n",
    "        grade_key_list = sorted(self.__dict.keys())\n",
    "        for student_id in grade_key_list:\n",
    "            grade_str += 'Student ID : {}, Average Grade: {}\\n'.format(student_id, self.__dict[student_id])\n",
    "        return grade_str\n",
    "\n",
    "#\n",
    "\n",
    "stu1 = Student(id=\"2015104221\", grade_list=[30, 60, 60])\n",
    "stu2 = Student(id=\"2019311060\", grade_list=[80, 70, 90])\n",
    "stu3 = Student(id=\"2018105323\", grade_list=[20, 30, 40])\n",
    "stu4 = Student(id=\"2016105323\", grade_list=[20, 30, 40])\n",
    "stu5 = Student(id=\"2017105323\", grade_list=[20, 30, 40])\n",
    "calculator = AvgCalculator()\n",
    "\n",
    "# Your code here\n",
    "\n",
    "calculator.calc_avg_grade(stu1.getId(), stu1.getGradeList())\n",
    "calculator.calc_avg_grade(stu2.getId(), stu2.getGradeList())\n",
    "calculator.calc_avg_grade(stu3.getId(), stu3.getGradeList())\n",
    "calculator.calc_avg_grade(stu4.getId(), stu4.getGradeList())\n",
    "calculator.calc_avg_grade(stu5.getId(), stu5.getGradeList())\n",
    "\n",
    "\n",
    "print(calculator)"
   ]
  }
 ],
 "metadata": {
  "kernelspec": {
   "display_name": "Python 3",
   "language": "python",
   "name": "python3"
  },
  "language_info": {
   "codemirror_mode": {
    "name": "ipython",
    "version": 3
   },
   "file_extension": ".py",
   "mimetype": "text/x-python",
   "name": "python",
   "nbconvert_exporter": "python",
   "pygments_lexer": "ipython3",
   "version": "3.7.3"
  }
 },
 "nbformat": 4,
 "nbformat_minor": 2
}
