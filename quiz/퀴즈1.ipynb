def ymd2days(yyyy,mm,dd):
    return(yyyy*360+mm*30+dd)

def calHol(enter,today):
    enter=ymd2days(2000,10,10)
    today=ymd2days(2000,10,14)
    return((today-enter)//14)

enter=ymd2days(2000,10,10)
today=ymd2days(2000,10,24)

calHol(enter,today)
