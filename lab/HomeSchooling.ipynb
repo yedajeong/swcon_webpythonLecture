{
 "cells": [
  {
   "cell_type": "markdown",
   "metadata": {},
   "source": [
    "# Home Schooling"
   ]
  },
  {
   "cell_type": "markdown",
   "metadata": {},
   "source": [
    "기초 프로그래밍 교과목인 웹/파이선 프로그래밍(SWCON 104) 교과목을 통한 프로그래밍 언어에 대한 지식 습득과 별도로,<br>\n",
    "소프트웨어와 프로그래밍의 중요성을 EBS에서 제작한 다큐멘타리를 통해서 이해해 보도록 합니다.<br>\n",
    "\n",
    "소프트웨어 비전공자는 이를 토대로 기초 프로그래밍 교과목과 프로그래밍 지식의 습득이 실제로는 전공자 보다 비전공자에 더 중요해지고 있음을 이해하고,<br>\n",
    "소프트웨어 전공자는 소프트웨어 개발 역량이 일반적 지식으로 바뀌기에 단지 소프트웨어를 개발함이 전공자의 역할이라는 인식을 바꾸고,<br>\n",
    "아울러 본인이 나아가야 할 방향에 대한 고민을 하게 되는 계기를 마련하고자 함 입니다.<br>"
   ]
  },
  {
   "cell_type": "markdown",
   "metadata": {},
   "source": [
    "## Theme.1 창의적인 문제 해결을 위한 태도 변화"
   ]
  },
  {
   "cell_type": "markdown",
   "metadata": {},
   "source": [
    "<font color='blue'>**``EBS 다큐프라임 왜 우리는 대학에 가는가``**</font>\n",
    "\n",
    "- 5부 말문을 터라 하브루타: https://youtu.be/sDw3IRZf3k8\n",
    "- 6부 생각을 터라: https://youtu.be/-Zptozl9Nj4"
   ]
  },
  {
   "cell_type": "markdown",
   "metadata": {},
   "source": [
    "## Theme.2 창의적인 대학 생활을 위한 태도 변화"
   ]
  },
  {
   "cell_type": "markdown",
   "metadata": {},
   "source": [
    "<font color='blue'>**``EBS 다큐프라임 - 4차 산업혁명, 교육패러다임의 대전환``**</font>\n",
    "\n",
    "- 1부 대학의 변신\n",
    "    - Ep.1: https://youtu.be/Ax5ehTYTR6U\n",
    "    - Ep.2: https://youtu.be/fkaAk-GIxLY\n",
    "    - Ep.3: https://youtu.be/B1c7dXYCg-s\n",
    "\n",
    "\n",
    "- 2부 칸막이를 없애라\n",
    "    - Ep.1: https://youtu.be/pYqIomfl0HA\n",
    "    - Ep.2: https://youtu.be/e-Y2_vlEU8k\n",
    "    - Ep.3: https://youtu.be/-mcpV1n-HpY"
   ]
  },
  {
   "cell_type": "markdown",
   "metadata": {},
   "source": [
    "## Theme.3 소프트웨어 발전에 따른 교육의 변화"
   ]
  },
  {
   "cell_type": "markdown",
   "metadata": {},
   "source": [
    "<font color='blue'>**``[EBS다큐프라임] 4차 산업혁명시대 교육대혁명``**</font>\n",
    "\n",
    "- 1부 AI와 인간의 공존은 가능한가\n",
    "    - Ep.1 https://youtu.be/hRZ5CSHeodE\n",
    "    - Ep.2 https://youtu.be/e3-4L4uVwEs\n",
    "    - Ep.3 https://youtu.be/vGFc1WwawQc\n",
    "\n",
    "\n",
    "- 2부 평가의 틀을 깨라 \n",
    "    - Ep.1 https://youtu.be/Uh_i3eMZ3B4\n",
    "    - Ep.2 https://youtu.be/HWEqZUG7bds\n",
    "    - Ep.3 https://youtu.be/ecPhgbsu3rE\n",
    "  \n",
    "  \n",
    "- 3부 대학, 변해야 산다\n",
    "    - Ep.1 https://youtu.be/q-U7_dJmYqU\n",
    "    - Ep.2 https://youtu.be/Y5qi8DtZyjI\n",
    "    - Ep.3 https://youtu.be/C96m2Ghr7DA"
   ]
  },
  {
   "cell_type": "markdown",
   "metadata": {},
   "source": [
    "## Theme.4 소프트웨어 발전에 따른 산업의 변화"
   ]
  },
  {
   "cell_type": "markdown",
   "metadata": {},
   "source": [
    "<font color='blue'>**``[EBS특별기획] 소프트웨어``**</font>\n",
    "\n",
    "- 1부 소프트웨어, 세상을 변화시키다\n",
    "    - Ep.1: https://youtu.be/0U0ve_HFUL8\n",
    "    - Ep.2: https://youtu.be/q1rC8z3Tqrw\n",
    "    - Ep.3: https://youtu.be/Mkq-w8NHhHc\n",
    "\n",
    "\n",
    "- 2부 소프트웨어, 혁신을 불어 넣다\n",
    "    - Ep.1: https://youtu.be/e_SWAznDNk0\n",
    "    - Ep.2: https://youtu.be/fQO1cz1Uebg\n",
    "    - Ep.3: https://youtu.be/W_CvTMvamTs\n",
    "\n",
    "\n",
    "- 3부 결국엔 사람\n",
    "    - Ep.1: https://youtu.be/y4bMCfzZ_Ng\n",
    "    - Ep.2: https://youtu.be/J6KAppBKOGk\n",
    "    - Ep.3: https://youtu.be/JUAx3IGN0aE"
   ]
  }
 ],
 "metadata": {
  "kernelspec": {
   "display_name": "Python 3",
   "language": "python",
   "name": "python3"
  },
  "language_info": {
   "codemirror_mode": {
    "name": "ipython",
    "version": 3
   },
   "file_extension": ".py",
   "mimetype": "text/x-python",
   "name": "python",
   "nbconvert_exporter": "python",
   "pygments_lexer": "ipython3",
   "version": "3.7.1"
  }
 },
 "nbformat": 4,
 "nbformat_minor": 2
}
