{
 "cells": [
  {
   "cell_type": "markdown",
   "metadata": {},
   "source": [
    "# 수업 내용 이해"
   ]
  },
  {
   "cell_type": "markdown",
   "metadata": {},
   "source": [
    "컴퓨터 프로그램에서 가장 많이 사용되는 알고리즘은 아마도 검색일 것으로, 굉장히 많은 데이터에서 원하는 값을 찾기 위한 노력을 의미합니다.<br>\n",
    "소프트웨어를 전공하는 경우는, 알고리즘(Algorithm)이라는 별도의 중요 교과목에서 깊이 있는 이해를 진행합니다.<br>\n",
    "본 수업은 Python 언어를 익히는 것이 목적이므로, 단순한 몇가지 방법을 배고자 합니다."
   ]
  },
  {
   "cell_type": "markdown",
   "metadata": {},
   "source": [
    "## ``for`` 문법을 사용한 Linear Search 이해하기"
   ]
  },
  {
   "cell_type": "markdown",
   "metadata": {},
   "source": [
    "``Linear search``는 데이터의 처음부터 끝까지 순서대로 목표 값과 저장된 값을 비교해 나가는 방법으로서, 검색 속도가 느린 단점이 있습니다.<br>\n",
    "하지만 검색이라는 분야를 공부함에 있어서 좋은 시작이 됩니다.<br>\n",
    "\n",
    "아래의 함수는 ``for`` 문법을 이용하여, ``리스트(lst)``내에서 ``목표값(value)``을 찾는 검색 함수를 구현한 것입니다.<br>\n",
    "\n",
    "```python\n",
    "def linear_search_for(lst, value):\n",
    "    i = 0\n",
    "    for i in range(len(lst)):\n",
    "        if lst[i] == value:\n",
    "            return i\n",
    "    return -1\n",
    "```\n",
    "\n",
    "수업에서 Linear search에도 여러가지 방법이 가능하다는 것을 배웠으므로, 방법별 시간 비교를 위하여 검색을 시작하기 전과 마친 후의 시간을 측정합니다.<br>\n",
    "이를 위하여 우리는 Python의 ``time 모듈``을 import한 후, 시간 측정 함수인 ``time.perf_counter()``를 사용합니다.<br>\n",
    "\n",
    "아래의 코드는 time 모듈을 import한 후, 입력 파라메타로 ``searchMethod를 검색 방법별 함수로 받고``,<br>\n",
    "추가적인 정보로서 검색 대상인 리스트(lst)와 목표 값(value)도 입력 파라메타로 받습니다.<br>\n",
    "\n",
    "```python\n",
    "import time\n",
    "\n",
    "def time_it(searchMethod, lst, value):\n",
    "    t1 = time.perf_counter()\n",
    "    if(searchMethod(lst, value) == -1):\n",
    "        print(\"Error in search.\")\n",
    "    t2 = time.perf_counter()\n",
    "    return (t2-t1)\n",
    "```\n",
    "\n",
    "예를 들어, 위에서 정의한 ``linear_search_for()``로 검색을 하되, 리스트는 ``L``이고 목표 값이 ``10``이라면, 호출방식은 다음과 같습니다.<br>\n",
    "\n",
    "```python\n",
    "time_it(linear_search_for, L, 10)\n",
    "```\n",
    "\n",
    "이제 위의 모든 사항을 하나로 합쳐서, 저장된 데이터가 1~10000001 인 경우에, ``10/5000000/10000000``을 각각 찾아보도록 합니다.<br>\n",
    "이를 수행하는 완성된 코드가 아래와 같이 있습니다.<br>\n",
    "\n",
    "```python\n",
    "import time\n",
    "\n",
    "def time_it(searchMethod, lst, value):\n",
    "    t1 = time.perf_counter()\n",
    "    if(searchMethod(lst, value) == -1):\n",
    "        print(\"Error in search.\")\n",
    "    t2 = time.perf_counter()\n",
    "    return (t2-t1)\n",
    "\n",
    "def linear_search_for(lst, value):\n",
    "    i = 0\n",
    "    for i in range(len(lst)):\n",
    "        if lst[i] == value:\n",
    "            return i\n",
    "    return -1\n",
    "\n",
    "L = list(range(10000001))\n",
    "\n",
    "print(time_it(linear_search_for, L, 10))\n",
    "print(time_it(linear_search_for, L, 5000000))\n",
    "print(time_it(linear_search_for, L, 10000000))\n",
    "```\n",
    "\n",
    "상기 코드를 아래의 입력 창에 입력후 실행하여 시간이 얼마나 걸리는지를 확인해 봅니다."
   ]
  },
  {
   "cell_type": "code",
   "execution_count": 2,
   "metadata": {},
   "outputs": [
    {
     "name": "stdout",
     "output_type": "stream",
     "text": [
      "6.900001608300954e-06\n",
      "1.0124648999990313\n",
      "1.7794635999962338\n"
     ]
    }
   ],
   "source": [
    "import time\n",
    "\n",
    "def time_it(searchMethod, lst, value):\n",
    "    t1 = time.perf_counter()\n",
    "    if(searchMethod(lst, value) == -1):\n",
    "        print(\"Error in search.\")\n",
    "    t2 = time.perf_counter()\n",
    "    return (t2-t1)\n",
    "\n",
    "def linear_search_for(lst, value):\n",
    "    i = 0\n",
    "    for i in range(len(lst)):\n",
    "        if lst[i] == value:\n",
    "            return i\n",
    "    return -1\n",
    "\n",
    "L = list(range(10000001))\n",
    "\n",
    "print(time_it(linear_search_for, L, 10))\n",
    "print(time_it(linear_search_for, L, 5000000))\n",
    "print(time_it(linear_search_for, L, 10000000))"
   ]
  },
  {
   "cell_type": "markdown",
   "metadata": {},
   "source": [
    "## ``while`` 문법을 사용한 Linear Search 이해하기"
   ]
  },
  {
   "cell_type": "markdown",
   "metadata": {},
   "source": [
    "동일한 Linear Search를 ``while`` 구문으로 (강의노트를 참조하여) 작성하고, 앞서 ``for``과 동일하게 세가지 숫자에 대한 검색 시간을 측정합니다.<br>\n",
    "아래의 입력 창에 작성한 프로그램을 입력후 실행하여 시간이 얼마나 걸리는지를 확인해 봅니다.<br>"
   ]
  },
  {
   "cell_type": "code",
   "execution_count": 4,
   "metadata": {},
   "outputs": [
    {
     "name": "stdout",
     "output_type": "stream",
     "text": [
      "6.70000008540228e-06\n",
      "2.7564452000005986\n",
      "4.882749299998977\n"
     ]
    }
   ],
   "source": [
    "def linear_search_while(lst, value):\n",
    "    i=0\n",
    "    while i != len(lst) and lst[i] != value:\n",
    "        i = i+1\n",
    "        \n",
    "    if i==len(lst):\n",
    "        return -1\n",
    "    else:\n",
    "        return i\n",
    "    \n",
    "import time\n",
    "\n",
    "print(time_it(linear_search_while, L, 10))\n",
    "print(time_it(linear_search_while, L, 5000000))\n",
    "print(time_it(linear_search_while, L, 10000000))"
   ]
  },
  {
   "cell_type": "markdown",
   "metadata": {},
   "source": [
    "## ``while`` 문법을 사용한 Sentinel Linear Search 이해하기 "
   ]
  },
  {
   "cell_type": "markdown",
   "metadata": {},
   "source": [
    "동일한 Linear Search를 Sentinel한 방법과 ``while`` 구문으로 (강의노트를 참조하여) 작성하고, 앞서 ``for``과 동일하게 세가지 숫자에 대한 검색 시간을 측정합니다.<br>\n",
    "아래의 입력 창에 작성한 프로그램을 입력후 실행하여 시간이 얼마나 걸리는지를 확인해 봅니다.<br>"
   ]
  },
  {
   "cell_type": "code",
   "execution_count": 6,
   "metadata": {},
   "outputs": [
    {
     "data": {
      "text/plain": [
       "4.9100002797786146e-05"
      ]
     },
     "execution_count": 6,
     "metadata": {},
     "output_type": "execute_result"
    }
   ],
   "source": [
    "def linear_search_sentinel(lst, value):\n",
    "    lst.append(value) #lst 제일 마지막에 찾고자하는 값 넣음\n",
    "    i=0\n",
    "    while lst[i] != value:\n",
    "        i = i+1\n",
    "    \n",
    "    lst.pop() #앞에서 추가했던 value 지움(아이템 프린트하고 리스트안에선 지움)\n",
    "    \n",
    "    if i==len(lst): #while문이 다 돌았을 때 리스트 길이와 같다면 value는 lst안에 없음\n",
    "        return -1\n",
    "    else: #whlie문이 돌았을 때 value값이 중간에 있었으면 멈췄음, 그 때의 인덱스 i돌려줌\n",
    "        return i\n",
    "    \n",
    "time_it(linear_search_sentinel, L, 100)"
   ]
  },
  {
   "cell_type": "markdown",
   "metadata": {},
   "source": [
    "# 실습 (LAB)"
   ]
  },
  {
   "cell_type": "markdown",
   "metadata": {},
   "source": [
    "## 속도 개선을 위한 Binary Search 개발하기"
   ]
  },
  {
   "cell_type": "markdown",
   "metadata": {},
   "source": [
    "속도 개선을 위한 Binary Search를 강의노트를 참조하여 작성하고, 앞서 ``for``과 동일하게 세가지 숫자에 대한 검색 시간을 측정합니다.<br>\n",
    "아래의 입력 창에 작성한 프로그램을 입력후 실행하여 시간이 얼마나 걸리는지를 확인해 봅니다.<br>"
   ]
  },
  {
   "cell_type": "code",
   "execution_count": null,
   "metadata": {},
   "outputs": [],
   "source": []
  },
  {
   "cell_type": "markdown",
   "metadata": {},
   "source": [
    "## Binary Search와 Linear Search 시간 비교하기"
   ]
  },
  {
   "cell_type": "markdown",
   "metadata": {},
   "source": [
    "지금까지 작성한 네가지 방식의 검색 방법에 대한 프로그램들을 한번에 실행해서, 동일한 조건에서의 성능을 상호 비교하도록 합니다.<br>\n",
    "이왕 성능 평가를 하는김에 자료화 해서 쓸수 있도록 출력을 화일로 저장합니다.<br>\n",
    "\n",
    "따라서 4가지 방식을 데이터 크기 ``10000001`` 만큼에 대해서 실행하되, 앞서의 예처럼 세가지 경우인 ``10/5000000/10000000``를 찾습니다.<br>\n",
    "이에 대한 소요 시간을, 총 4가지 방식에 대한 ``12가지 숫자``를 2차원 테이블로 만들어서 저장합니다.<br>\n",
    "\n",
    "저장시에 숫자만 저장하지 말고, 방법과 검색 대상인 숫자까지 화일에 저장해서, 누구든 읽으면 의미를 바로 알수 있도록 합니다.<br>\n",
    "아래의 입력창에 프로그램을 작성하고, 시간 측정후, 화일에 저장합니다."
   ]
  },
  {
   "cell_type": "code",
   "execution_count": null,
   "metadata": {},
   "outputs": [],
   "source": []
  }
 ],
 "metadata": {
  "kernelspec": {
   "display_name": "Python 3",
   "language": "python",
   "name": "python3"
  },
  "language_info": {
   "codemirror_mode": {
    "name": "ipython",
    "version": 3
   },
   "file_extension": ".py",
   "mimetype": "text/x-python",
   "name": "python",
   "nbconvert_exporter": "python",
   "pygments_lexer": "ipython3",
   "version": "3.7.3"
  }
 },
 "nbformat": 4,
 "nbformat_minor": 2
}
