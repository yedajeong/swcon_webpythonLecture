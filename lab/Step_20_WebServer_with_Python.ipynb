{
 "cells": [
  {
   "cell_type": "markdown",
   "metadata": {},
   "source": [
    "# 수업 내용 이해 & 실습 (LAB)"
   ]
  },
  {
   "cell_type": "markdown",
   "metadata": {},
   "source": [
    "본 절에서는 Step.20에서 설명한 Python 언어 기반의 웹서버 프로그램들의 소스코드 리뷰와 실행을 실습합니다.<br>\n",
    "Web/HTTP/HTML/CSS의 기초에 대한 이론 수업을 하였지만, 바로 웹서버를 직접 만드는 것은 어려울 것으로 판단하여 리뷰와 실행을 하는 것으로 하였습니다.<br>\n",
    "그렇다고 \"잘 돌아가네\"라고 하지 말고, 처음 부터 끝까지 천천히 한줄 한줄 읽고 이해하기 바랍니다.<br>"
   ]
  },
  {
   "cell_type": "markdown",
   "metadata": {},
   "source": [
    "## 실행 방법 (주의 요망)"
   ]
  },
  {
   "cell_type": "markdown",
   "metadata": {},
   "source": [
    "본 수업에서의 웹서버 프로그램들은 이렇게 실행합니다.<br>\n",
    "\n",
    "\\[단계1\\] 소스코드를 실행함 <br>\n",
    "\\[단계2\\] 웹브라우저에서 새 시크릿 창 모드로 새 윈도우를 오픈함 (그렇지 않으면, 보안 환경들로 인하여 에러 발생 가능함)<br>\n",
    "\\[단계3\\] 새로 오픈한 윈도우의 주소창에 프로그램별로 명시한 ``Client:`` 부분을 타이핑한 후, 엔터키로 실행시킴<br>\n",
    "\n",
    "만약, 에러가 나면서 ``[Errno 48] Address already in use``라고 나타나면, 웹서버가 여러번 실행되면서 뭔가 제대로 동작하지 않는 현상으로 볼 수 있습니다.<br>\n",
    "이런 경우는 Jupyter 메뉴 단추 중 새까만 단추(Stop)을 눌러서 중지하시고, Kernel 메뉴에서 \"Restart & Clear Output\"을 누른후, 다시 실행하면 될겁니다.<br>\n",
    "\n",
    "특별히 본 수업의 프로그램들은 함께 사용할 화일들이 있는 이유로, 아래 프로그램 별로 명시한 위치의 해당 화일을 동작하도록 합니다"
   ]
  },
  {
   "cell_type": "markdown",
   "metadata": {},
   "source": [
    "## ``webserver1`` 실행하기"
   ]
  },
  {
   "cell_type": "markdown",
   "metadata": {},
   "source": [
    "Jupyter nodebook을 통해서 ``/Step_20_SourceCode_LectureNote/webserver1``으로 이동후 ``webserver1.ipynb``를 선택하여 실행함"
   ]
  },
  {
   "cell_type": "markdown",
   "metadata": {},
   "source": [
    "## ``httpserver1`` 실행하기"
   ]
  },
  {
   "cell_type": "markdown",
   "metadata": {},
   "source": [
    "Jupyter nodebook을 통해서 ``/Step_20_SourceCode_LectureNote/httpserver1``으로 이동후 ``httpserver1.ipynb``를 선택하여 실행함"
   ]
  },
  {
   "cell_type": "markdown",
   "metadata": {},
   "source": [
    "## ``httpserver2`` 실행하기"
   ]
  },
  {
   "cell_type": "markdown",
   "metadata": {},
   "source": [
    "Jupyter nodebook을 통해서 ``/Step_20_SourceCode_LectureNote/httpserver2``으로 이동후 ``httpserver2.ipynb``를 선택하여 실행함"
   ]
  },
  {
   "cell_type": "markdown",
   "metadata": {},
   "source": [
    "## ``httpserver3`` 실행하기"
   ]
  },
  {
   "cell_type": "markdown",
   "metadata": {},
   "source": [
    "Jupyter nodebook을 통해서 ``/Step_20_SourceCode_LectureNote/httpserver3``으로 이동후 ``httpserver3.ipynb``를 선택하여 실행함"
   ]
  },
  {
   "cell_type": "markdown",
   "metadata": {},
   "source": [
    "# 참조 자료"
   ]
  },
  {
   "cell_type": "markdown",
   "metadata": {},
   "source": [
    "우리는 Python 언어를 사용하여 직접 Web 서버와 HTTP 서버를 만들어 보았으나,<br>\n",
    "이미 Python 언어를 사용하여 훌륭한 수준의 Web/HTTP 서버를 만들수 있는 오픈소스 라이브러리가 존재합니다.<br>"
   ]
  },
  {
   "cell_type": "markdown",
   "metadata": {},
   "source": [
    "![Anaconda Main Screen](Step_20_WebServer_with_Python.png)"
   ]
  },
  {
   "cell_type": "markdown",
   "metadata": {},
   "source": [
    "대표적으로 소개할 만한 라이브러리는 django 라고 불리우는 오픈소스 입니다.<br>\n",
    "공식 웹사이트는 https://www.djangoproject.com/ 이므로, 제대로 된 진짜 Web/HTTP 서버를 Python으로 도전하고 싶은 사람은 공부해 보도록 합니다.<br>"
   ]
  }
 ],
 "metadata": {
  "kernelspec": {
   "display_name": "Python 3",
   "language": "python",
   "name": "python3"
  },
  "language_info": {
   "codemirror_mode": {
    "name": "ipython",
    "version": 3
   },
   "file_extension": ".py",
   "mimetype": "text/x-python",
   "name": "python",
   "nbconvert_exporter": "python",
   "pygments_lexer": "ipython3",
   "version": "3.6.5"
  }
 },
 "nbformat": 4,
 "nbformat_minor": 2
}
