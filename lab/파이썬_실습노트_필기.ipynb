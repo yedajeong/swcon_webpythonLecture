{
 "cells": [
  {
   "cell_type": "code",
   "execution_count": 36,
   "metadata": {},
   "outputs": [],
   "source": [
    "#step_03 : abs(x) 절댓값 반환\n",
    "#step_03 : pow(x,y) x의 y승\n",
    "#step_03 : round(x) x가 float일 때 소수점 다음에 대해 반올림, 결과값은 int(소수점 몇째자리건)\n",
    "#step_03 : 함수의 지역변수는 함수 설정 시 입력파라메타 이외에 함수내에서도 만들어 사용 가능\n",
    "#step_03 : 같은지 확인은 assert 어쩌구 == 어쩌구\n",
    "\n",
    "#step_04 : FDR은 help로 함수 호출했을 때 나오는 부분 #은 주석\n",
    "\n",
    "#step_05 : print 안에서 sep='' 는 입력파라메타 사이에 넣을 값, 초기값은 공란임\n",
    "#step_05 : print 안에서 end='\\n'는 맨 끝에 올 거, 초기값은 줄바꿈\n",
    "#step_05 : input은 아무말 없으면 문자열, 그냥 변수저장은 기본 숫자\n",
    "#step_05 : 문자열 슬라이싱에서 구간 정할때 [a:b] 하면 a부터 b-1까지\n",
    "\n",
    "#step_07 : sentence.count(target) sentence와 target은 사용자가 지정하는 문자열 혹은 문자\n",
    "\n",
    "#step_08 : 내가 직접 만든 함수들 여러개 모아서 .py로 저장한다음 다른곳에서 import파일이름 하면 그 속의 함수 쓸 수 있음\n",
    "#step_08 : import모듈 해오면 모듈안의 함수 쓸 때는 반드시 모듈.함수()형태\n",
    "#step_08 : 모듈.함수 쓰기 귀찮으면 아예 시작할 떄 from 모듈 import 함수 하고 사용하기\n",
    "#step_08 : from 모듈 import * 하면 모듈안의 모든 함수 불러옴, 그냥 함수 쓰면됨(점안찍고)\n",
    "#step_08 : math.sqrt=>제곱근 계산해줌\n",
    "\n",
    "#step_09 : str.upper(sentence) 문자열 모두 대문자로 혹은 sentence.upper()해도 결과값 같음 sentence는 사용자지정변수\n",
    "#step_09 : sentence.upper/sentence.lower/sentence.count/sentence.capitalize/sentence.center\n",
    "#step_09 : '문자열안에 {0},{1},{2}'.format('0에 넣을거','1에 넣을거','2에 넣을거')\n",
    "#step_09 : '문자열{0:.3f}'.format(math.pi) math모듈의pi함수 불러옴, 소수점뒤에 엄청 많으나 딱 0:.3f 니까 0의 자리에 소수점 3째자리까지만\n",
    "#step_09 :  문자열.find() 입력 하나->첫번째꺼 인덱스 찾음\n",
    "\n",
    "#step_10 :  len,max,min 모두 리스트안의 아이템에 대해서도 적용가능\n",
    "#step_10 :  sorted(리스트) 하면 리스트 안의 아이템들 크기순으로 정렬\n",
    "#step_10 :  sorted(리스트,reverse=True) 거꾸로 정렬 (내림차순,,?)\n",
    "#step_10 :  리스트[인덱스넘버] 리스트인리스트[인덱스][인덱스]\n",
    "#step_10 :  \"아이템\" in 리스트 ->리스트안에 해당 아이템이 들어있나?\n",
    "#step_10 :  리스트[start:end:step] /리스트[::-1] \n",
    "#step_10 :  alising 은 별명만드는거, 원본바뀌면 그대로바뀜/리스트[:]하면 그냥 그때의 리스트모습 복사,원본변화시 사본변회x\n",
    "#step_10 :  del 리스트[인덱스]\n",
    "#step_10 :  list Class 의 methods(리스트.method) append :마지막에 아이템 추가/extend:문자하나하나뜯어서문자로저장\n",
    "#step_10 :  insert(A,B):인덱스A에 B저장, 원래 그 위치의아이템은 뒤로감 remove:지우라는거 하나만 지움(여러개 중복 있어도)\n",
    "#step_10 :  count:동일개수카운트 sort:리스트내의 아이템정렬(리스트.sort!=sorted(리스트)) reverse:역순정렬(리스트.reverse=!sorted(리스트,reverse=True))\n",
    "#step_10 :  pop:리스트의 마지막 아이템 보여주고(무슨소리지?) 리스트안에서 지움,()안에 인덱스넣으면 그 인덱스의 아이템 지움\n",
    "#step_10 :  리스트.index(리스트내의아이템):리스트 내의 아이템 인덱스 몇번인지 알려줌\n",
    "\n",
    "#step_11 :  range(start,end,step)\n",
    "\n",
    "#sorted(list)->일시적으로 정렬해서 보여줌. 리스트가 수정되지는 않음\n",
    "#list.sort->리스트내의 아이템을 아예 정렬하여 수정하고 저장함. 바꿈\n",
    "#reverse도 마찬가지\n"
   ]
  },
  {
   "cell_type": "code",
   "execution_count": 2,
   "metadata": {
    "scrolled": true
   },
   "outputs": [
    {
     "name": "stdout",
     "output_type": "stream",
     "text": [
      "['Python', 'Javascript', 'C', 'C++', '__reserved__']\n",
      "['Python', 'Javascript', 'C', '__reserved__']\n",
      "['Python', 'Javascript', 'C']\n"
     ]
    }
   ],
   "source": [
    "#테스트\n",
    "course = [ \"Python\", \"Javascript\", \"C++\", \"__reserved__\" ]\n",
    "course.insert(2,\"C\")\n",
    "print(course)\n",
    "course.pop(3)\n",
    "print(course)\n",
    "course.pop()\n",
    "print(course)"
   ]
  },
  {
   "cell_type": "markdown",
   "metadata": {},
   "source": [
    "#터틀그래픽\n",
    "forward(거리) fd(거리) : 거북이가 앞으로 이동\n",
    "backwoard(거리) bk(거리) back(거리) : 거북이가 뒤로 이동\n",
    "left(각도) lt(각도) : 왼쪽으로 회전\n",
    "right(각도) rt(각도) : 오른쪽으로 회전\n",
    "circle(반지름) : 현재 위치에서 원을 그림\n",
    "goto(x,y) setpos(x,y) setposition(x,y) : 거북이를 특정 좌표로 보냄\n",
    "setx(x) : 거북이의 x좌표를 지정한 위치로 보냄\n",
    "sety(y) : 마찬가지\n",
    "setheading(각도) seth(각도) : 거북이가 바라보는 방향 바꿈\n",
    "home() : 거북이의 위치,방향을 처음상태로 돌림\n",
    "speed(속도) : 속도바꿈 0이면 최고속도 1이면 가장느린속도 10이면 빠른속도\n",
    "position() pos() : 거북이의 현재 위치 구함\n",
    "toward(x,y) : 현재 거북이가 있는 위치에서 틁정 위치까지 바라보는 각도 구함\n",
    "xcor() : 거북이의 x좌표 구함\n",
    "ycor() : 마찬가지 \n",
    "distance(x,y): 거북이가 현재 바라보는 각도 구함\n",
    "pendown() pd() down() : 펜을 내림(잉크묻힌꼬리)\n",
    "penup() pu() up() : 올림\n",
    "pensize(굵기) width(굵기) : 펜 굵기 바꿈\n",
    "isdown() : 펜이 내려져 있는지 여부 반환\n",
    "\n",
    "import turtle\n",
    "turtle.forward(200)\n",
    "turtle.shapesize(2,2)\n",
    "turtle.shape(\"turtle\") -> 화살표아니고 끝이 거북이모양\n",
    "t.color(\"blue\")\n",
    "t.bgcolor(\"black\") -> 배경 색깔\n",
    "for i in range(6): -> 6번 반복\n",
    "    t.circle(60)\n",
    "    t.left(6)"
   ]
  },
  {
   "cell_type": "code",
   "execution_count": 35,
   "metadata": {},
   "outputs": [
    {
     "name": "stdout",
     "output_type": "stream",
     "text": [
      "1\n",
      "1\n",
      "0\n",
      "3\n",
      "1\n"
     ]
    }
   ],
   "source": [
    "#step_06 : Boolean\n",
    "\n",
    "#or 은 하나라도 true면 true,and 는 하나라도 false면 false\n",
    "#or->ture and->false 글자수 2,4 3,5로 외우기\n",
    "#or 은 true 나오면 종료\n",
    "#and 는 false 나오면 종료\n",
    "#0 or 1 이면 1 이다\n",
    "#1 or 0 이면 1 이다\n",
    "#0 and 1이면 0 이다\n",
    "#1 and 3 이면 3 이다\n",
    "#3 and 1 이면 1 이다\n",
    "print(0 or 1)\n",
    "print(1 or 0)\n",
    "print(0 and 1)\n",
    "print(1 and 3)\n",
    "print(3 and 1)"
   ]
  },
  {
   "cell_type": "code",
   "execution_count": 26,
   "metadata": {},
   "outputs": [
    {
     "name": "stdout",
     "output_type": "stream",
     "text": [
      "I'm dajeong\n"
     ]
    }
   ],
   "source": [
    "#테스트\n",
    "string=\"i'm dajeong\"\n",
    "print(string.capitalize())"
   ]
  },
  {
   "cell_type": "code",
   "execution_count": 1,
   "metadata": {},
   "outputs": [
    {
     "data": {
      "text/plain": [
       "3"
      ]
     },
     "execution_count": 1,
     "metadata": {},
     "output_type": "execute_result"
    }
   ],
   "source": [
    "#테스트\n",
    "round(3.159)"
   ]
  },
  {
   "cell_type": "code",
   "execution_count": 5,
   "metadata": {},
   "outputs": [
    {
     "data": {
      "text/plain": [
       "5"
      ]
     },
     "execution_count": 5,
     "metadata": {},
     "output_type": "execute_result"
    }
   ],
   "source": [
    "#테스트\n",
    "def quadratic(a,b,c):\n",
    "    return (a*b)+a**c+b\n",
    "\n",
    "quadratic(1,2,3)"
   ]
  },
  {
   "cell_type": "code",
   "execution_count": 6,
   "metadata": {
    "scrolled": true
   },
   "outputs": [
    {
     "data": {
      "text/plain": [
       "5"
      ]
     },
     "execution_count": 6,
     "metadata": {},
     "output_type": "execute_result"
    }
   ],
   "source": [
    "#테스트\n",
    "def quadratic(a,b,c):\n",
    "    first=a*b\n",
    "    second=a**c\n",
    "    third=b\n",
    "    return first+second+third\n",
    "quadratic(1,2,3)"
   ]
  },
  {
   "cell_type": "code",
   "execution_count": 7,
   "metadata": {},
   "outputs": [],
   "source": [
    "def sum(a,b):\n",
    "    return a+b\n",
    "def multiply(a,b):\n",
    "    return a*b\n",
    "def subtract(a,b):\n",
    "    return a-b\n",
    "def multiply_three_numbers(a,b,c):\n",
    "    return a*b*c\n",
    "def add_and_multiply(a,b,c):\n",
    "    return (a+b)*c"
   ]
  },
  {
   "cell_type": "code",
   "execution_count": 8,
   "metadata": {},
   "outputs": [
    {
     "data": {
      "text/plain": [
       "27"
      ]
     },
     "execution_count": 8,
     "metadata": {},
     "output_type": "execute_result"
    }
   ],
   "source": [
    "#테스트\n",
    "def new_quadratic(a,b,c,x):\n",
    "    first=multiply(a,pow(x,2))\n",
    "    second=multiply(b,x)\n",
    "    third=c\n",
    "    return first+second+third\n",
    "new_quadratic(1,2,3,4)"
   ]
  },
  {
   "cell_type": "code",
   "execution_count": 10,
   "metadata": {},
   "outputs": [
    {
     "name": "stdout",
     "output_type": "stream",
     "text": [
      "Help on function getDifference in module __main__:\n",
      "\n",
      "getDifference(a, b)\n",
      "    (float,float)->float\n",
      "    Return the difference of two input parameters, and change\n",
      "    to absolute value\n",
      "    \n",
      "    >>>getDifference(2,3)\n",
      "    1\n",
      "\n"
     ]
    }
   ],
   "source": [
    "def getDifference(a,b):\n",
    "    \"\"\"\n",
    "    (float,float)->float\n",
    "    Return the difference of two input parameters, and change\n",
    "    to absolute value\n",
    "    \n",
    "    >>>getDifference(2,3)\n",
    "    1\n",
    "    \"\"\"\n",
    "    return abs(a-b)\n",
    "getDifference(2,3)\n",
    "help(getDifference)"
   ]
  },
  {
   "cell_type": "code",
   "execution_count": 11,
   "metadata": {},
   "outputs": [
    {
     "name": "stdout",
     "output_type": "stream",
     "text": [
      "3  * 1 =  3\n",
      "3  * 2 =  6\n",
      "3  * 3 =  9\n",
      "3  * 4 =  12\n",
      "3  * 5 =  15\n",
      "3  * 6 =  18\n",
      "3  * 7 =  21\n",
      "3  * 8 =  24\n",
      "3  * 9 =  27\n"
     ]
    }
   ],
   "source": [
    "def calcGugudan(a):\n",
    "    print(a,\" * 1 = \",a*1)\n",
    "    print(a,\" * 2 = \",a*2)\n",
    "    print(a,\" * 3 = \",a*3)\n",
    "    print(a,\" * 4 = \",a*4)\n",
    "    print(a,\" * 5 = \",a*5)\n",
    "    print(a,\" * 6 = \",a*6)\n",
    "    print(a,\" * 7 = \",a*7)\n",
    "    print(a,\" * 8 = \",a*8)\n",
    "    print(a,\" * 9 = \",a*9)\n",
    "    \n",
    "calcGugudan(3)    "
   ]
  },
  {
   "cell_type": "code",
   "execution_count": 13,
   "metadata": {},
   "outputs": [
    {
     "name": "stdout",
     "output_type": "stream",
     "text": [
      "DrSungwon is \"GOOD\"\n",
      "19\n",
      "19\n"
     ]
    }
   ],
   "source": [
    "print(\"DrSungwon is \\\"GOOD\\\"\")\n",
    "print(len(\"DrSungwon is \\\"GOOD\\\"\"))\n",
    "print(len(\"DrSungwon is 'GOOD'\"))"
   ]
  },
  {
   "cell_type": "code",
   "execution_count": 20,
   "metadata": {
    "scrolled": true
   },
   "outputs": [
    {
     "name": "stdout",
     "output_type": "stream",
     "text": [
      "hello\tworld\n",
      "hello\n",
      "world\n",
      "hello\r",
      "world\n",
      "hello my name is\r",
      "dajeong\n",
      "hellomyname is\r",
      "dajeong\n",
      "a b \r",
      "c\n"
     ]
    }
   ],
   "source": [
    "print(\"hello\\tworld\")\n",
    "print(\"hello\\nworld\")\n",
    "print(\"hello\\rworld\")\n",
    "print(\"hello my name is\\rdajeong\")\n",
    "print(\"hellomyname is\\rdajeong\")\n",
    "print(\"a b \\rc\")"
   ]
  },
  {
   "cell_type": "code",
   "execution_count": 23,
   "metadata": {},
   "outputs": [
    {
     "name": "stdout",
     "output_type": "stream",
     "text": [
      "1 and 2 and 3\n"
     ]
    }
   ],
   "source": [
    "print(1,2,3,sep=' and ')"
   ]
  },
  {
   "cell_type": "code",
   "execution_count": 44,
   "metadata": {},
   "outputs": [
    {
     "name": "stdout",
     "output_type": "stream",
     "text": [
      "Hello, what's your name?: dajeong\n",
      "How old are you?: 20\n",
      "Years of this year (ex: 2019)?: 2019\n",
      "Years of the future?: 2098\n",
      "dajeong is 20 years old\n",
      "dajeong becomes 30 years old after 10 years\n",
      "dajeong becomes 99 years old 2098\n"
     ]
    }
   ],
   "source": [
    "def calcAge(present_age,present_year,future_year):\n",
    "    return present_age+(future_year-present_year)\n",
    "\n",
    "name=input(\"Hello, what's your name?: \")\n",
    "present_age=int(input(\"How old are you?: \"))\n",
    "present_year=int(input(\"Years of this year (ex: 2019)?: \"))\n",
    "future_year=int(input(\"Years of the future?: \"))\n",
    "\n",
    "print(name,\"is\",present_age,\"years old\")\n",
    "print(name,\"becomes\",calcAge(present_age,present_year,present_year+10),\"years old after 10 years\")\n",
    "#이 윗줄 왜계속 오류나지?\n",
    "print(name,\"becomes\",calcAge(present_age,present_year,future_year),\"years old\",future_year)"
   ]
  }
 ],
 "metadata": {
  "kernelspec": {
   "display_name": "Python 3",
   "language": "python",
   "name": "python3"
  },
  "language_info": {
   "codemirror_mode": {
    "name": "ipython",
    "version": 3
   },
   "file_extension": ".py",
   "mimetype": "text/x-python",
   "name": "python",
   "nbconvert_exporter": "python",
   "pygments_lexer": "ipython3",
   "version": "3.7.3"
  }
 },
 "nbformat": 4,
 "nbformat_minor": 2
}
